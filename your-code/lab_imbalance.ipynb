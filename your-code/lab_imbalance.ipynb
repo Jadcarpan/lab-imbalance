{
 "cells": [
  {
   "cell_type": "markdown",
   "metadata": {},
   "source": [
    "# Inbalanced Classes\n",
    "## In this lab, we are going to explore a case of imbalanced classes. \n",
    "\n",
    "\n",
    "Like we disussed in class, when we have noisy data, if we are not careful, we can end up fitting our model to the noise in the data and not the 'signal'-- the factors that actually determine the outcome. This is called overfitting, and results in good results in training, and in bad results when the model is applied to real data. Similarly, we could have a model that is too simplistic to accurately model the signal. This produces a model that doesnt work well (ever). \n"
   ]
  },
  {
   "cell_type": "markdown",
   "metadata": {},
   "source": [
    "### Note: before doing the first commit, make sure you don't include the large csv file, either by adding it to .gitignore, or by deleting it."
   ]
  },
  {
   "cell_type": "markdown",
   "metadata": {},
   "source": [
    "### First, download the data from: https://www.kaggle.com/ealaxi/paysim1 . Import the dataset and provide some discriptive statistics and plots. What do you think will be the important features in determining the outcome?\n",
    "### Note: don't use the entire dataset, use a sample instead, with n=100000 elements, so your computer doesn't freeze."
   ]
  },
  {
   "cell_type": "code",
   "execution_count": 33,
   "metadata": {},
   "outputs": [
    {
     "data": {
      "text/html": [
       "<div>\n",
       "<style scoped>\n",
       "    .dataframe tbody tr th:only-of-type {\n",
       "        vertical-align: middle;\n",
       "    }\n",
       "\n",
       "    .dataframe tbody tr th {\n",
       "        vertical-align: top;\n",
       "    }\n",
       "\n",
       "    .dataframe thead th {\n",
       "        text-align: right;\n",
       "    }\n",
       "</style>\n",
       "<table border=\"1\" class=\"dataframe\">\n",
       "  <thead>\n",
       "    <tr style=\"text-align: right;\">\n",
       "      <th></th>\n",
       "      <th>step</th>\n",
       "      <th>type</th>\n",
       "      <th>amount</th>\n",
       "      <th>nameOrig</th>\n",
       "      <th>oldbalanceOrg</th>\n",
       "      <th>newbalanceOrig</th>\n",
       "      <th>nameDest</th>\n",
       "      <th>oldbalanceDest</th>\n",
       "      <th>newbalanceDest</th>\n",
       "      <th>isFraud</th>\n",
       "      <th>isFlaggedFraud</th>\n",
       "    </tr>\n",
       "  </thead>\n",
       "  <tbody>\n",
       "    <tr>\n",
       "      <th>3315418</th>\n",
       "      <td>252</td>\n",
       "      <td>CASH_IN</td>\n",
       "      <td>281387.40</td>\n",
       "      <td>C2043732768</td>\n",
       "      <td>15581784.21</td>\n",
       "      <td>15863171.61</td>\n",
       "      <td>C213471909</td>\n",
       "      <td>1628241.41</td>\n",
       "      <td>1346854.01</td>\n",
       "      <td>0</td>\n",
       "      <td>0</td>\n",
       "    </tr>\n",
       "    <tr>\n",
       "      <th>4222717</th>\n",
       "      <td>306</td>\n",
       "      <td>CASH_IN</td>\n",
       "      <td>20880.68</td>\n",
       "      <td>C1006120729</td>\n",
       "      <td>2009.00</td>\n",
       "      <td>22889.68</td>\n",
       "      <td>C1148440206</td>\n",
       "      <td>533020.87</td>\n",
       "      <td>512140.19</td>\n",
       "      <td>0</td>\n",
       "      <td>0</td>\n",
       "    </tr>\n",
       "    <tr>\n",
       "      <th>2774407</th>\n",
       "      <td>213</td>\n",
       "      <td>PAYMENT</td>\n",
       "      <td>36775.27</td>\n",
       "      <td>C1959953509</td>\n",
       "      <td>161425.73</td>\n",
       "      <td>124650.45</td>\n",
       "      <td>M237815722</td>\n",
       "      <td>0.00</td>\n",
       "      <td>0.00</td>\n",
       "      <td>0</td>\n",
       "      <td>0</td>\n",
       "    </tr>\n",
       "    <tr>\n",
       "      <th>1431668</th>\n",
       "      <td>139</td>\n",
       "      <td>CASH_OUT</td>\n",
       "      <td>190698.66</td>\n",
       "      <td>C575471378</td>\n",
       "      <td>0.00</td>\n",
       "      <td>0.00</td>\n",
       "      <td>C222854729</td>\n",
       "      <td>2882182.68</td>\n",
       "      <td>3072881.34</td>\n",
       "      <td>0</td>\n",
       "      <td>0</td>\n",
       "    </tr>\n",
       "    <tr>\n",
       "      <th>2025751</th>\n",
       "      <td>180</td>\n",
       "      <td>PAYMENT</td>\n",
       "      <td>14926.21</td>\n",
       "      <td>C1745791810</td>\n",
       "      <td>10138.00</td>\n",
       "      <td>0.00</td>\n",
       "      <td>M1439545627</td>\n",
       "      <td>0.00</td>\n",
       "      <td>0.00</td>\n",
       "      <td>0</td>\n",
       "      <td>0</td>\n",
       "    </tr>\n",
       "  </tbody>\n",
       "</table>\n",
       "</div>"
      ],
      "text/plain": [
       "         step      type     amount     nameOrig  oldbalanceOrg  \\\n",
       "3315418   252   CASH_IN  281387.40  C2043732768    15581784.21   \n",
       "4222717   306   CASH_IN   20880.68  C1006120729        2009.00   \n",
       "2774407   213   PAYMENT   36775.27  C1959953509      161425.73   \n",
       "1431668   139  CASH_OUT  190698.66   C575471378           0.00   \n",
       "2025751   180   PAYMENT   14926.21  C1745791810       10138.00   \n",
       "\n",
       "         newbalanceOrig     nameDest  oldbalanceDest  newbalanceDest  isFraud  \\\n",
       "3315418     15863171.61   C213471909      1628241.41      1346854.01        0   \n",
       "4222717        22889.68  C1148440206       533020.87       512140.19        0   \n",
       "2774407       124650.45   M237815722            0.00            0.00        0   \n",
       "1431668            0.00   C222854729      2882182.68      3072881.34        0   \n",
       "2025751            0.00  M1439545627            0.00            0.00        0   \n",
       "\n",
       "         isFlaggedFraud  \n",
       "3315418               0  \n",
       "4222717               0  \n",
       "2774407               0  \n",
       "1431668               0  \n",
       "2025751               0  "
      ]
     },
     "execution_count": 33,
     "metadata": {},
     "output_type": "execute_result"
    }
   ],
   "source": [
    "# Your code here\n",
    "import pandas as pd\n",
    "import numpy as np\n",
    "import matplotlib.pyplot as plt\n",
    "data = pd.read_csv(\"PS_20174392719_1491204439457_log.csv\")\n",
    "data = data.sample(n=100000)\n",
    "data.head()"
   ]
  },
  {
   "cell_type": "code",
   "execution_count": 47,
   "metadata": {},
   "outputs": [
    {
     "data": {
      "text/plain": [
       "(100000, 11)"
      ]
     },
     "execution_count": 47,
     "metadata": {},
     "output_type": "execute_result"
    }
   ],
   "source": [
    "paysim = data.copy()\n",
    "paysim.shape"
   ]
  },
  {
   "cell_type": "code",
   "execution_count": 48,
   "metadata": {},
   "outputs": [
    {
     "data": {
      "text/html": [
       "<div>\n",
       "<style scoped>\n",
       "    .dataframe tbody tr th:only-of-type {\n",
       "        vertical-align: middle;\n",
       "    }\n",
       "\n",
       "    .dataframe tbody tr th {\n",
       "        vertical-align: top;\n",
       "    }\n",
       "\n",
       "    .dataframe thead th {\n",
       "        text-align: right;\n",
       "    }\n",
       "</style>\n",
       "<table border=\"1\" class=\"dataframe\">\n",
       "  <thead>\n",
       "    <tr style=\"text-align: right;\">\n",
       "      <th></th>\n",
       "      <th>step</th>\n",
       "      <th>amount</th>\n",
       "      <th>oldbalanceOrg</th>\n",
       "      <th>newbalanceOrig</th>\n",
       "      <th>oldbalanceDest</th>\n",
       "      <th>newbalanceDest</th>\n",
       "      <th>isFraud</th>\n",
       "      <th>isFlaggedFraud</th>\n",
       "    </tr>\n",
       "  </thead>\n",
       "  <tbody>\n",
       "    <tr>\n",
       "      <th>count</th>\n",
       "      <td>100000.000000</td>\n",
       "      <td>1.000000e+05</td>\n",
       "      <td>1.000000e+05</td>\n",
       "      <td>1.000000e+05</td>\n",
       "      <td>1.000000e+05</td>\n",
       "      <td>1.000000e+05</td>\n",
       "      <td>100000.000000</td>\n",
       "      <td>100000.000000</td>\n",
       "    </tr>\n",
       "    <tr>\n",
       "      <th>mean</th>\n",
       "      <td>243.255020</td>\n",
       "      <td>1.801753e+05</td>\n",
       "      <td>8.462512e+05</td>\n",
       "      <td>8.680647e+05</td>\n",
       "      <td>1.104175e+06</td>\n",
       "      <td>1.228758e+06</td>\n",
       "      <td>0.000950</td>\n",
       "      <td>0.000020</td>\n",
       "    </tr>\n",
       "    <tr>\n",
       "      <th>std</th>\n",
       "      <td>142.257519</td>\n",
       "      <td>6.197905e+05</td>\n",
       "      <td>2.916006e+06</td>\n",
       "      <td>2.952902e+06</td>\n",
       "      <td>3.439751e+06</td>\n",
       "      <td>3.717224e+06</td>\n",
       "      <td>0.030808</td>\n",
       "      <td>0.004472</td>\n",
       "    </tr>\n",
       "    <tr>\n",
       "      <th>min</th>\n",
       "      <td>1.000000</td>\n",
       "      <td>2.300000e-01</td>\n",
       "      <td>0.000000e+00</td>\n",
       "      <td>0.000000e+00</td>\n",
       "      <td>0.000000e+00</td>\n",
       "      <td>0.000000e+00</td>\n",
       "      <td>0.000000</td>\n",
       "      <td>0.000000</td>\n",
       "    </tr>\n",
       "    <tr>\n",
       "      <th>25%</th>\n",
       "      <td>155.000000</td>\n",
       "      <td>1.333448e+04</td>\n",
       "      <td>0.000000e+00</td>\n",
       "      <td>0.000000e+00</td>\n",
       "      <td>0.000000e+00</td>\n",
       "      <td>0.000000e+00</td>\n",
       "      <td>0.000000</td>\n",
       "      <td>0.000000</td>\n",
       "    </tr>\n",
       "    <tr>\n",
       "      <th>50%</th>\n",
       "      <td>238.000000</td>\n",
       "      <td>7.480205e+04</td>\n",
       "      <td>1.405950e+04</td>\n",
       "      <td>0.000000e+00</td>\n",
       "      <td>1.310695e+05</td>\n",
       "      <td>2.152400e+05</td>\n",
       "      <td>0.000000</td>\n",
       "      <td>0.000000</td>\n",
       "    </tr>\n",
       "    <tr>\n",
       "      <th>75%</th>\n",
       "      <td>334.000000</td>\n",
       "      <td>2.091243e+05</td>\n",
       "      <td>1.085258e+05</td>\n",
       "      <td>1.471078e+05</td>\n",
       "      <td>9.540250e+05</td>\n",
       "      <td>1.117434e+06</td>\n",
       "      <td>0.000000</td>\n",
       "      <td>0.000000</td>\n",
       "    </tr>\n",
       "    <tr>\n",
       "      <th>max</th>\n",
       "      <td>741.000000</td>\n",
       "      <td>5.625500e+07</td>\n",
       "      <td>3.856340e+07</td>\n",
       "      <td>3.893942e+07</td>\n",
       "      <td>2.280985e+08</td>\n",
       "      <td>2.279433e+08</td>\n",
       "      <td>1.000000</td>\n",
       "      <td>1.000000</td>\n",
       "    </tr>\n",
       "  </tbody>\n",
       "</table>\n",
       "</div>"
      ],
      "text/plain": [
       "                step        amount  oldbalanceOrg  newbalanceOrig  \\\n",
       "count  100000.000000  1.000000e+05   1.000000e+05    1.000000e+05   \n",
       "mean      243.255020  1.801753e+05   8.462512e+05    8.680647e+05   \n",
       "std       142.257519  6.197905e+05   2.916006e+06    2.952902e+06   \n",
       "min         1.000000  2.300000e-01   0.000000e+00    0.000000e+00   \n",
       "25%       155.000000  1.333448e+04   0.000000e+00    0.000000e+00   \n",
       "50%       238.000000  7.480205e+04   1.405950e+04    0.000000e+00   \n",
       "75%       334.000000  2.091243e+05   1.085258e+05    1.471078e+05   \n",
       "max       741.000000  5.625500e+07   3.856340e+07    3.893942e+07   \n",
       "\n",
       "       oldbalanceDest  newbalanceDest        isFraud  isFlaggedFraud  \n",
       "count    1.000000e+05    1.000000e+05  100000.000000   100000.000000  \n",
       "mean     1.104175e+06    1.228758e+06       0.000950        0.000020  \n",
       "std      3.439751e+06    3.717224e+06       0.030808        0.004472  \n",
       "min      0.000000e+00    0.000000e+00       0.000000        0.000000  \n",
       "25%      0.000000e+00    0.000000e+00       0.000000        0.000000  \n",
       "50%      1.310695e+05    2.152400e+05       0.000000        0.000000  \n",
       "75%      9.540250e+05    1.117434e+06       0.000000        0.000000  \n",
       "max      2.280985e+08    2.279433e+08       1.000000        1.000000  "
      ]
     },
     "execution_count": 48,
     "metadata": {},
     "output_type": "execute_result"
    }
   ],
   "source": [
    "paysim.describe()"
   ]
  },
  {
   "cell_type": "markdown",
   "metadata": {},
   "source": [
    "### What is the distribution of the outcome? "
   ]
  },
  {
   "cell_type": "code",
   "execution_count": 49,
   "metadata": {},
   "outputs": [
    {
     "name": "stdout",
     "output_type": "stream",
     "text": [
      "                step        amount  oldbalanceOrg  newbalanceOrig  \\\n",
      "count  100000.000000  1.000000e+05   1.000000e+05    1.000000e+05   \n",
      "mean      243.255020  1.801753e+05   8.462512e+05    8.680647e+05   \n",
      "std       142.257519  6.197905e+05   2.916006e+06    2.952902e+06   \n",
      "min         1.000000  2.300000e-01   0.000000e+00    0.000000e+00   \n",
      "25%       155.000000  1.333448e+04   0.000000e+00    0.000000e+00   \n",
      "50%       238.000000  7.480205e+04   1.405950e+04    0.000000e+00   \n",
      "75%       334.000000  2.091243e+05   1.085258e+05    1.471078e+05   \n",
      "max       741.000000  5.625500e+07   3.856340e+07    3.893942e+07   \n",
      "\n",
      "       oldbalanceDest  newbalanceDest        isFraud  isFlaggedFraud  \n",
      "count    1.000000e+05    1.000000e+05  100000.000000   100000.000000  \n",
      "mean     1.104175e+06    1.228758e+06       0.000950        0.000020  \n",
      "std      3.439751e+06    3.717224e+06       0.030808        0.004472  \n",
      "min      0.000000e+00    0.000000e+00       0.000000        0.000000  \n",
      "25%      0.000000e+00    0.000000e+00       0.000000        0.000000  \n",
      "50%      1.310695e+05    2.152400e+05       0.000000        0.000000  \n",
      "75%      9.540250e+05    1.117434e+06       0.000000        0.000000  \n",
      "max      2.280985e+08    2.279433e+08       1.000000        1.000000  \n",
      "0    99905\n",
      "1       95\n",
      "Name: isFraud, dtype: int64\n",
      "0    99998\n",
      "1        2\n",
      "Name: isFlaggedFraud, dtype: int64\n"
     ]
    }
   ],
   "source": [
    "# Your response here\n",
    "print(paysim.describe())\n",
    "print(paysim[\"isFraud\"].value_counts())\n",
    "print(paysim[\"isFlaggedFraud\"].value_counts())"
   ]
  },
  {
   "cell_type": "markdown",
   "metadata": {},
   "source": [
    "### Clean the dataset. How are you going to integrate the time variable? Do you think the step (integer) coding in which it is given is appropriate?"
   ]
  },
  {
   "cell_type": "code",
   "execution_count": 50,
   "metadata": {},
   "outputs": [],
   "source": [
    "# Your code here\n",
    "paysim[\"type\"].unique()\n",
    "#I decide to dummify the column \"type\", since it has only 4 unique values that may have some kind of impact in the payment\n",
    "#Apart of that, I will drop step, since it gives us no certain clue of how it works, also the names (they could be useful to track single persons, not our case), and \"isFlaggedFraud\" since it doesn't give us any kind of new info (it's all 0s)\n",
    "paysim = pd.get_dummies(paysim, columns=[\"type\"])\n",
    "paysim.drop(['step','nameOrig','nameDest','isFlaggedFraud'],axis = 1, inplace = True)"
   ]
  },
  {
   "cell_type": "markdown",
   "metadata": {},
   "source": [
    "### Run a logisitc regression classifier and evaluate its accuracy."
   ]
  },
  {
   "cell_type": "code",
   "execution_count": 76,
   "metadata": {},
   "outputs": [
    {
     "name": "stdout",
     "output_type": "stream",
     "text": [
      "precision:  1.0\n",
      "recall:  0.16129032258064516\n",
      "f1:  0.27777777777777773\n",
      "Mean Absolute Error: 0.00104\n",
      "Mean Squared Error: 0.00104\n",
      "Root Mean Squared Error: 0.0322490309931942\n"
     ]
    },
    {
     "data": {
      "text/plain": [
       "array([[24969,     0],\n",
       "       [   26,     5]], dtype=int64)"
      ]
     },
     "execution_count": 76,
     "metadata": {},
     "output_type": "execute_result"
    }
   ],
   "source": [
    "# Your code here\n",
    "from sklearn.model_selection import train_test_split\n",
    "from sklearn.linear_model import LogisticRegression\n",
    "from sklearn.metrics import precision_score\n",
    "from sklearn.metrics import recall_score\n",
    "from sklearn.metrics import f1_score\n",
    "from sklearn.metrics import confusion_matrix\n",
    "\n",
    "y = paysim[\"isFraud\"]\n",
    "X = paysim.drop(\"isFraud\", axis = 1)\n",
    "\n",
    "X_train, X_test, y_train, y_test = train_test_split(X, y)\n",
    "\n",
    "scaler = StandardScaler()\n",
    "scaler.fit(X_train)\n",
    "X_train = scaler.transform(X_train)\n",
    "X_test = scaler.transform(X_test)\n",
    "\n",
    "model1 = LogisticRegression()\n",
    "model1.fit(X_train, y_train)\n",
    "model1.score(X_test, y_test)\n",
    "\n",
    "pred = model1.predict(X_test)\n",
    "\n",
    "print(\"precision: \",precision_score(y_test,pred))\n",
    "print(\"recall: \",recall_score(y_test,pred))\n",
    "print(\"f1: \",f1_score(y_test,pred))\n",
    "print('Mean Absolute Error:', metrics.mean_absolute_error(y_test, pred))\n",
    "print('Mean Squared Error:', metrics.mean_squared_error(y_test, pred))\n",
    "print('Root Mean Squared Error:', np.sqrt(metrics.mean_squared_error(y_test, pred)))\n",
    "confusion_matrix(y_test,pred)"
   ]
  },
  {
   "cell_type": "markdown",
   "metadata": {},
   "source": [
    "### Now pick a model of your choice and evaluate its accuracy."
   ]
  },
  {
   "cell_type": "code",
   "execution_count": 77,
   "metadata": {
    "scrolled": true
   },
   "outputs": [
    {
     "name": "stdout",
     "output_type": "stream",
     "text": [
      "Mean Absolute Error: 0.0006664\n",
      "Mean Squared Error: 0.00041996000000000004\n",
      "Root Mean Squared Error: 0.020492925608609425\n"
     ]
    }
   ],
   "source": [
    "# Your code here\n",
    "\n",
    "from sklearn import metrics\n",
    "from sklearn.ensemble import RandomForestRegressor\n",
    "\n",
    "scaler = StandardScaler()\n",
    "scaler.fit(X_train)\n",
    "X_train = scaler.transform(X_train)\n",
    "X_test = scaler.transform(X_test)\n",
    "\n",
    "regressor = RandomForestRegressor()\n",
    "regressor.fit(X_train, y_train)\n",
    "pred2 = regressor.predict(X_test)\n",
    "\n",
    "print('Mean Absolute Error:', metrics.mean_absolute_error(y_test, pred2))\n",
    "print('Mean Squared Error:', metrics.mean_squared_error(y_test, pred2))\n",
    "print('Root Mean Squared Error:', np.sqrt(metrics.mean_squared_error(y_test, pred2)))\n",
    "\n"
   ]
  },
  {
   "cell_type": "code",
   "execution_count": 81,
   "metadata": {},
   "outputs": [
    {
     "name": "stdout",
     "output_type": "stream",
     "text": [
      "precision:  1.0\n",
      "recall:  0.41935483870967744\n",
      "f1:  0.5909090909090909\n",
      "Mean Absolute Error: 0.00072\n",
      "Mean Squared Error: 0.00072\n",
      "Root Mean Squared Error: 0.02683281572999748\n"
     ]
    },
    {
     "data": {
      "text/plain": [
       "array([[24969,     0],\n",
       "       [   18,    13]], dtype=int64)"
      ]
     },
     "execution_count": 81,
     "metadata": {},
     "output_type": "execute_result"
    }
   ],
   "source": [
    "from sklearn.neighbors import KNeighborsClassifier\n",
    "from sklearn.metrics import accuracy_score\n",
    "\n",
    "model2 = KNeighborsClassifier(n_neighbors = 4)\n",
    "model2 = model2.fit(X_train, y_train)\n",
    "model2.predict(X_test)\n",
    "np.array(y_test)\n",
    "accuracy_score(model2.predict(X_test),np.array(y_test))\n",
    "\n",
    "\n",
    "\n",
    "pred3 = model2.predict(X_test)\n",
    "\n",
    "print(\"precision: \",precision_score(y_test,pred3))\n",
    "print(\"recall: \",recall_score(y_test,pred3))\n",
    "print(\"f1: \",f1_score(y_test,pred3))\n",
    "print('Mean Absolute Error:', metrics.mean_absolute_error(y_test, pred3))\n",
    "print('Mean Squared Error:', metrics.mean_squared_error(y_test, pred3))\n",
    "print('Root Mean Squared Error:', np.sqrt(metrics.mean_squared_error(y_test, pred3)))\n",
    "confusion_matrix(y_test,pred3)\n",
    "\n"
   ]
  },
  {
   "cell_type": "markdown",
   "metadata": {},
   "source": [
    "### Which model worked better and how do you know?"
   ]
  },
  {
   "cell_type": "code",
   "execution_count": 2,
   "metadata": {},
   "outputs": [],
   "source": [
    "# Your response here\n",
    "#After scaling the data, I've got a 100% accuracy in KNN and LinearRegression, but a higher recall and F1 with KNN. \n",
    "#Nonetheless, the the error stats of the RandomForestRegression seem to be better than the other two."
   ]
  },
  {
   "cell_type": "markdown",
   "metadata": {},
   "source": [
    "### Note: before doing the first commit, make sure you don't include the large csv file, either by adding it to .gitignore, or by deleting it."
   ]
  }
 ],
 "metadata": {
  "kernelspec": {
   "display_name": "Python 3 (ipykernel)",
   "language": "python",
   "name": "python3"
  },
  "language_info": {
   "codemirror_mode": {
    "name": "ipython",
    "version": 3
   },
   "file_extension": ".py",
   "mimetype": "text/x-python",
   "name": "python",
   "nbconvert_exporter": "python",
   "pygments_lexer": "ipython3",
   "version": "3.9.7"
  }
 },
 "nbformat": 4,
 "nbformat_minor": 2
}
