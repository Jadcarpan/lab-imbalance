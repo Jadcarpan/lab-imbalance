{
 "cells": [
  {
   "cell_type": "markdown",
   "metadata": {},
   "source": [
    "# Inbalanced Classes\n",
    "## In this lab, we are going to explore a case of imbalanced classes. \n",
    "\n",
    "\n",
    "Like we disussed in class, when we have noisy data, if we are not careful, we can end up fitting our model to the noise in the data and not the 'signal'-- the factors that actually determine the outcome. This is called overfitting, and results in good results in training, and in bad results when the model is applied to real data. Similarly, we could have a model that is too simplistic to accurately model the signal. This produces a model that doesnt work well (ever). \n"
   ]
  },
  {
   "cell_type": "markdown",
   "metadata": {},
   "source": [
    "### Note: before doing the first commit, make sure you don't include the large csv file, either by adding it to .gitignore, or by deleting it."
   ]
  },
  {
   "cell_type": "markdown",
   "metadata": {},
   "source": [
    "### First, download the data from: https://www.kaggle.com/ealaxi/paysim1 . Import the dataset and provide some discriptive statistics and plots. What do you think will be the important features in determining the outcome?\n",
    "### Note: don't use the entire dataset, use a sample instead, with n=100000 elements, so your computer doesn't freeze."
   ]
  },
  {
   "cell_type": "code",
   "execution_count": 1,
   "metadata": {},
   "outputs": [
    {
     "data": {
      "text/html": [
       "<div>\n",
       "<style scoped>\n",
       "    .dataframe tbody tr th:only-of-type {\n",
       "        vertical-align: middle;\n",
       "    }\n",
       "\n",
       "    .dataframe tbody tr th {\n",
       "        vertical-align: top;\n",
       "    }\n",
       "\n",
       "    .dataframe thead th {\n",
       "        text-align: right;\n",
       "    }\n",
       "</style>\n",
       "<table border=\"1\" class=\"dataframe\">\n",
       "  <thead>\n",
       "    <tr style=\"text-align: right;\">\n",
       "      <th></th>\n",
       "      <th>step</th>\n",
       "      <th>type</th>\n",
       "      <th>amount</th>\n",
       "      <th>nameOrig</th>\n",
       "      <th>oldbalanceOrg</th>\n",
       "      <th>newbalanceOrig</th>\n",
       "      <th>nameDest</th>\n",
       "      <th>oldbalanceDest</th>\n",
       "      <th>newbalanceDest</th>\n",
       "      <th>isFraud</th>\n",
       "      <th>isFlaggedFraud</th>\n",
       "    </tr>\n",
       "  </thead>\n",
       "  <tbody>\n",
       "    <tr>\n",
       "      <th>1215983</th>\n",
       "      <td>133</td>\n",
       "      <td>PAYMENT</td>\n",
       "      <td>19926.07</td>\n",
       "      <td>C861404775</td>\n",
       "      <td>0.00</td>\n",
       "      <td>0.00</td>\n",
       "      <td>M1738444549</td>\n",
       "      <td>0.00</td>\n",
       "      <td>0.00</td>\n",
       "      <td>0</td>\n",
       "      <td>0</td>\n",
       "    </tr>\n",
       "    <tr>\n",
       "      <th>1380727</th>\n",
       "      <td>138</td>\n",
       "      <td>CASH_IN</td>\n",
       "      <td>116486.49</td>\n",
       "      <td>C1913530774</td>\n",
       "      <td>13960685.62</td>\n",
       "      <td>14077172.11</td>\n",
       "      <td>C1749309365</td>\n",
       "      <td>417190.14</td>\n",
       "      <td>300703.65</td>\n",
       "      <td>0</td>\n",
       "      <td>0</td>\n",
       "    </tr>\n",
       "    <tr>\n",
       "      <th>3198325</th>\n",
       "      <td>249</td>\n",
       "      <td>CASH_OUT</td>\n",
       "      <td>266493.79</td>\n",
       "      <td>C561850127</td>\n",
       "      <td>0.00</td>\n",
       "      <td>0.00</td>\n",
       "      <td>C1697323714</td>\n",
       "      <td>3227609.76</td>\n",
       "      <td>3494103.55</td>\n",
       "      <td>0</td>\n",
       "      <td>0</td>\n",
       "    </tr>\n",
       "    <tr>\n",
       "      <th>2527263</th>\n",
       "      <td>205</td>\n",
       "      <td>PAYMENT</td>\n",
       "      <td>1033.78</td>\n",
       "      <td>C2021076634</td>\n",
       "      <td>0.00</td>\n",
       "      <td>0.00</td>\n",
       "      <td>M1313591026</td>\n",
       "      <td>0.00</td>\n",
       "      <td>0.00</td>\n",
       "      <td>0</td>\n",
       "      <td>0</td>\n",
       "    </tr>\n",
       "    <tr>\n",
       "      <th>5274237</th>\n",
       "      <td>372</td>\n",
       "      <td>TRANSFER</td>\n",
       "      <td>626369.64</td>\n",
       "      <td>C346195988</td>\n",
       "      <td>12795.00</td>\n",
       "      <td>0.00</td>\n",
       "      <td>C1820735980</td>\n",
       "      <td>0.00</td>\n",
       "      <td>626369.64</td>\n",
       "      <td>0</td>\n",
       "      <td>0</td>\n",
       "    </tr>\n",
       "  </tbody>\n",
       "</table>\n",
       "</div>"
      ],
      "text/plain": [
       "         step      type     amount     nameOrig  oldbalanceOrg  \\\n",
       "1215983   133   PAYMENT   19926.07   C861404775           0.00   \n",
       "1380727   138   CASH_IN  116486.49  C1913530774    13960685.62   \n",
       "3198325   249  CASH_OUT  266493.79   C561850127           0.00   \n",
       "2527263   205   PAYMENT    1033.78  C2021076634           0.00   \n",
       "5274237   372  TRANSFER  626369.64   C346195988       12795.00   \n",
       "\n",
       "         newbalanceOrig     nameDest  oldbalanceDest  newbalanceDest  isFraud  \\\n",
       "1215983            0.00  M1738444549            0.00            0.00        0   \n",
       "1380727     14077172.11  C1749309365       417190.14       300703.65        0   \n",
       "3198325            0.00  C1697323714      3227609.76      3494103.55        0   \n",
       "2527263            0.00  M1313591026            0.00            0.00        0   \n",
       "5274237            0.00  C1820735980            0.00       626369.64        0   \n",
       "\n",
       "         isFlaggedFraud  \n",
       "1215983               0  \n",
       "1380727               0  \n",
       "3198325               0  \n",
       "2527263               0  \n",
       "5274237               0  "
      ]
     },
     "execution_count": 1,
     "metadata": {},
     "output_type": "execute_result"
    }
   ],
   "source": [
    "# Your code here\n",
    "import pandas as pd\n",
    "import numpy as np\n",
    "import matplotlib.pyplot as plt\n",
    "data = pd.read_csv(\"PS_20174392719_1491204439457_log.csv\")\n",
    "data = data.sample(n=100000)\n",
    "data.head()"
   ]
  },
  {
   "cell_type": "code",
   "execution_count": 2,
   "metadata": {},
   "outputs": [
    {
     "data": {
      "text/plain": [
       "(100000, 11)"
      ]
     },
     "execution_count": 2,
     "metadata": {},
     "output_type": "execute_result"
    }
   ],
   "source": [
    "paysim = data.copy()\n",
    "paysim.shape"
   ]
  },
  {
   "cell_type": "code",
   "execution_count": 3,
   "metadata": {},
   "outputs": [
    {
     "data": {
      "text/html": [
       "<div>\n",
       "<style scoped>\n",
       "    .dataframe tbody tr th:only-of-type {\n",
       "        vertical-align: middle;\n",
       "    }\n",
       "\n",
       "    .dataframe tbody tr th {\n",
       "        vertical-align: top;\n",
       "    }\n",
       "\n",
       "    .dataframe thead th {\n",
       "        text-align: right;\n",
       "    }\n",
       "</style>\n",
       "<table border=\"1\" class=\"dataframe\">\n",
       "  <thead>\n",
       "    <tr style=\"text-align: right;\">\n",
       "      <th></th>\n",
       "      <th>step</th>\n",
       "      <th>amount</th>\n",
       "      <th>oldbalanceOrg</th>\n",
       "      <th>newbalanceOrig</th>\n",
       "      <th>oldbalanceDest</th>\n",
       "      <th>newbalanceDest</th>\n",
       "      <th>isFraud</th>\n",
       "      <th>isFlaggedFraud</th>\n",
       "    </tr>\n",
       "  </thead>\n",
       "  <tbody>\n",
       "    <tr>\n",
       "      <th>count</th>\n",
       "      <td>100000.00000</td>\n",
       "      <td>1.000000e+05</td>\n",
       "      <td>1.000000e+05</td>\n",
       "      <td>1.000000e+05</td>\n",
       "      <td>1.000000e+05</td>\n",
       "      <td>1.000000e+05</td>\n",
       "      <td>100000.00000</td>\n",
       "      <td>100000.0</td>\n",
       "    </tr>\n",
       "    <tr>\n",
       "      <th>mean</th>\n",
       "      <td>243.30189</td>\n",
       "      <td>1.792954e+05</td>\n",
       "      <td>8.455745e+05</td>\n",
       "      <td>8.661994e+05</td>\n",
       "      <td>1.100317e+06</td>\n",
       "      <td>1.223211e+06</td>\n",
       "      <td>0.00131</td>\n",
       "      <td>0.0</td>\n",
       "    </tr>\n",
       "    <tr>\n",
       "      <th>std</th>\n",
       "      <td>142.10701</td>\n",
       "      <td>5.675392e+05</td>\n",
       "      <td>2.939243e+06</td>\n",
       "      <td>2.972166e+06</td>\n",
       "      <td>3.243104e+06</td>\n",
       "      <td>3.498879e+06</td>\n",
       "      <td>0.03617</td>\n",
       "      <td>0.0</td>\n",
       "    </tr>\n",
       "    <tr>\n",
       "      <th>min</th>\n",
       "      <td>1.00000</td>\n",
       "      <td>3.500000e-01</td>\n",
       "      <td>0.000000e+00</td>\n",
       "      <td>0.000000e+00</td>\n",
       "      <td>0.000000e+00</td>\n",
       "      <td>0.000000e+00</td>\n",
       "      <td>0.00000</td>\n",
       "      <td>0.0</td>\n",
       "    </tr>\n",
       "    <tr>\n",
       "      <th>25%</th>\n",
       "      <td>155.00000</td>\n",
       "      <td>1.336453e+04</td>\n",
       "      <td>0.000000e+00</td>\n",
       "      <td>0.000000e+00</td>\n",
       "      <td>0.000000e+00</td>\n",
       "      <td>0.000000e+00</td>\n",
       "      <td>0.00000</td>\n",
       "      <td>0.0</td>\n",
       "    </tr>\n",
       "    <tr>\n",
       "      <th>50%</th>\n",
       "      <td>238.00000</td>\n",
       "      <td>7.493664e+04</td>\n",
       "      <td>1.449795e+04</td>\n",
       "      <td>0.000000e+00</td>\n",
       "      <td>1.334201e+05</td>\n",
       "      <td>2.168185e+05</td>\n",
       "      <td>0.00000</td>\n",
       "      <td>0.0</td>\n",
       "    </tr>\n",
       "    <tr>\n",
       "      <th>75%</th>\n",
       "      <td>334.00000</td>\n",
       "      <td>2.090151e+05</td>\n",
       "      <td>1.109093e+05</td>\n",
       "      <td>1.469268e+05</td>\n",
       "      <td>9.473233e+05</td>\n",
       "      <td>1.116471e+06</td>\n",
       "      <td>0.00000</td>\n",
       "      <td>0.0</td>\n",
       "    </tr>\n",
       "    <tr>\n",
       "      <th>max</th>\n",
       "      <td>741.00000</td>\n",
       "      <td>3.988514e+07</td>\n",
       "      <td>5.731626e+07</td>\n",
       "      <td>4.731626e+07</td>\n",
       "      <td>1.586808e+08</td>\n",
       "      <td>1.746541e+08</td>\n",
       "      <td>1.00000</td>\n",
       "      <td>0.0</td>\n",
       "    </tr>\n",
       "  </tbody>\n",
       "</table>\n",
       "</div>"
      ],
      "text/plain": [
       "               step        amount  oldbalanceOrg  newbalanceOrig  \\\n",
       "count  100000.00000  1.000000e+05   1.000000e+05    1.000000e+05   \n",
       "mean      243.30189  1.792954e+05   8.455745e+05    8.661994e+05   \n",
       "std       142.10701  5.675392e+05   2.939243e+06    2.972166e+06   \n",
       "min         1.00000  3.500000e-01   0.000000e+00    0.000000e+00   \n",
       "25%       155.00000  1.336453e+04   0.000000e+00    0.000000e+00   \n",
       "50%       238.00000  7.493664e+04   1.449795e+04    0.000000e+00   \n",
       "75%       334.00000  2.090151e+05   1.109093e+05    1.469268e+05   \n",
       "max       741.00000  3.988514e+07   5.731626e+07    4.731626e+07   \n",
       "\n",
       "       oldbalanceDest  newbalanceDest       isFraud  isFlaggedFraud  \n",
       "count    1.000000e+05    1.000000e+05  100000.00000        100000.0  \n",
       "mean     1.100317e+06    1.223211e+06       0.00131             0.0  \n",
       "std      3.243104e+06    3.498879e+06       0.03617             0.0  \n",
       "min      0.000000e+00    0.000000e+00       0.00000             0.0  \n",
       "25%      0.000000e+00    0.000000e+00       0.00000             0.0  \n",
       "50%      1.334201e+05    2.168185e+05       0.00000             0.0  \n",
       "75%      9.473233e+05    1.116471e+06       0.00000             0.0  \n",
       "max      1.586808e+08    1.746541e+08       1.00000             0.0  "
      ]
     },
     "execution_count": 3,
     "metadata": {},
     "output_type": "execute_result"
    }
   ],
   "source": [
    "paysim.describe()"
   ]
  },
  {
   "cell_type": "markdown",
   "metadata": {},
   "source": [
    "### What is the distribution of the outcome? "
   ]
  },
  {
   "cell_type": "code",
   "execution_count": 4,
   "metadata": {},
   "outputs": [
    {
     "name": "stdout",
     "output_type": "stream",
     "text": [
      "               step        amount  oldbalanceOrg  newbalanceOrig  \\\n",
      "count  100000.00000  1.000000e+05   1.000000e+05    1.000000e+05   \n",
      "mean      243.30189  1.792954e+05   8.455745e+05    8.661994e+05   \n",
      "std       142.10701  5.675392e+05   2.939243e+06    2.972166e+06   \n",
      "min         1.00000  3.500000e-01   0.000000e+00    0.000000e+00   \n",
      "25%       155.00000  1.336453e+04   0.000000e+00    0.000000e+00   \n",
      "50%       238.00000  7.493664e+04   1.449795e+04    0.000000e+00   \n",
      "75%       334.00000  2.090151e+05   1.109093e+05    1.469268e+05   \n",
      "max       741.00000  3.988514e+07   5.731626e+07    4.731626e+07   \n",
      "\n",
      "       oldbalanceDest  newbalanceDest       isFraud  isFlaggedFraud  \n",
      "count    1.000000e+05    1.000000e+05  100000.00000        100000.0  \n",
      "mean     1.100317e+06    1.223211e+06       0.00131             0.0  \n",
      "std      3.243104e+06    3.498879e+06       0.03617             0.0  \n",
      "min      0.000000e+00    0.000000e+00       0.00000             0.0  \n",
      "25%      0.000000e+00    0.000000e+00       0.00000             0.0  \n",
      "50%      1.334201e+05    2.168185e+05       0.00000             0.0  \n",
      "75%      9.473233e+05    1.116471e+06       0.00000             0.0  \n",
      "max      1.586808e+08    1.746541e+08       1.00000             0.0  \n",
      "0    99869\n",
      "1      131\n",
      "Name: isFraud, dtype: int64\n",
      "0    100000\n",
      "Name: isFlaggedFraud, dtype: int64\n"
     ]
    }
   ],
   "source": [
    "# Your response here\n",
    "print(paysim.describe())\n",
    "print(paysim[\"isFraud\"].value_counts())\n",
    "print(paysim[\"isFlaggedFraud\"].value_counts())"
   ]
  },
  {
   "cell_type": "markdown",
   "metadata": {},
   "source": [
    "### Clean the dataset. How are you going to integrate the time variable? Do you think the step (integer) coding in which it is given is appropriate?"
   ]
  },
  {
   "cell_type": "code",
   "execution_count": 5,
   "metadata": {},
   "outputs": [],
   "source": [
    "# Your code here\n",
    "paysim[\"type\"].unique()\n",
    "#I decide to dummify the column \"type\", since it has only 4 unique values that may have some kind of impact in the payment\n",
    "#Apart of that, I will drop step, since it gives us no certain clue of how it works, also the names (they could be useful to track single persons, not our case), and \"isFlaggedFraud\" since it doesn't give us any kind of new info (it's all 0s)\n",
    "paysim = pd.get_dummies(paysim, columns=[\"type\"])\n",
    "paysim.drop(['step','nameOrig','nameDest','isFlaggedFraud'],axis = 1, inplace = True)"
   ]
  },
  {
   "cell_type": "markdown",
   "metadata": {},
   "source": [
    "### Run a logisitc regression classifier and evaluate its accuracy."
   ]
  },
  {
   "cell_type": "code",
   "execution_count": 8,
   "metadata": {},
   "outputs": [
    {
     "name": "stdout",
     "output_type": "stream",
     "text": [
      "precision:  1.0\n",
      "recall:  0.41379310344827586\n",
      "f1:  0.5853658536585366\n",
      "Mean Absolute Error: 0.00068\n",
      "Mean Squared Error: 0.00068\n",
      "Root Mean Squared Error: 0.026076809620810597\n"
     ]
    },
    {
     "data": {
      "text/plain": [
       "array([[24971,     0],\n",
       "       [   17,    12]], dtype=int64)"
      ]
     },
     "execution_count": 8,
     "metadata": {},
     "output_type": "execute_result"
    }
   ],
   "source": [
    "# Your code here\n",
    "from sklearn.model_selection import train_test_split\n",
    "from sklearn.linear_model import LogisticRegression\n",
    "from sklearn.metrics import precision_score\n",
    "from sklearn.metrics import recall_score\n",
    "from sklearn.metrics import f1_score\n",
    "from sklearn.metrics import confusion_matrix\n",
    "from sklearn.preprocessing import StandardScaler\n",
    "from sklearn import metrics\n",
    "\n",
    "y = paysim[\"isFraud\"]\n",
    "X = paysim.drop(\"isFraud\", axis = 1)\n",
    "\n",
    "X_train, X_test, y_train, y_test = train_test_split(X, y)\n",
    "\n",
    "scaler = StandardScaler()\n",
    "scaler.fit(X_train)\n",
    "X_train = scaler.transform(X_train)\n",
    "X_test = scaler.transform(X_test)\n",
    "\n",
    "model1 = LogisticRegression()\n",
    "model1.fit(X_train, y_train)\n",
    "model1.score(X_test, y_test)\n",
    "\n",
    "pred = model1.predict(X_test)\n",
    "\n",
    "print(\"precision: \",precision_score(y_test,pred))\n",
    "print(\"recall: \",recall_score(y_test,pred))\n",
    "print(\"f1: \",f1_score(y_test,pred))\n",
    "print('Mean Absolute Error:', metrics.mean_absolute_error(y_test, pred))\n",
    "print('Mean Squared Error:', metrics.mean_squared_error(y_test, pred))\n",
    "print('Root Mean Squared Error:', np.sqrt(metrics.mean_squared_error(y_test, pred)))\n",
    "confusion_matrix(y_test,pred)"
   ]
  },
  {
   "cell_type": "markdown",
   "metadata": {},
   "source": [
    "### Now pick a model of your choice and evaluate its accuracy."
   ]
  },
  {
   "cell_type": "code",
   "execution_count": 13,
   "metadata": {
    "scrolled": true
   },
   "outputs": [
    {
     "name": "stdout",
     "output_type": "stream",
     "text": [
      "Mean Absolute Error: 0.0008683999999999999\n",
      "Mean Squared Error: 0.00046568400000000006\n",
      "Root Mean Squared Error: 0.021579712695029098\n",
      "95.7069064908668\n",
      "59.80820510412768\n"
     ]
    }
   ],
   "source": [
    "# Your code here\n",
    "\n",
    "from sklearn import metrics\n",
    "from sklearn.ensemble import RandomForestRegressor\n",
    "\n",
    "scaler = StandardScaler()\n",
    "scaler.fit(X_train)\n",
    "X_train = scaler.transform(X_train)\n",
    "X_test = scaler.transform(X_test)\n",
    "\n",
    "regressor = RandomForestRegressor()\n",
    "regressor.fit(X_train, y_train)\n",
    "pred2 = regressor.predict(X_test)\n",
    "\n",
    "print('Mean Absolute Error:', metrics.mean_absolute_error(y_test, pred2))\n",
    "print('Mean Squared Error:', metrics.mean_squared_error(y_test, pred2))\n",
    "print('Root Mean Squared Error:', np.sqrt(metrics.mean_squared_error(y_test, pred2)))\n",
    "print(regressor.score(X_train,y_train)*100)\n",
    "print(regressor.score(X_test,y_test)*100)\n",
    "\n",
    "#Heavy overfitting"
   ]
  },
  {
   "cell_type": "code",
   "execution_count": 14,
   "metadata": {},
   "outputs": [
    {
     "name": "stdout",
     "output_type": "stream",
     "text": [
      "precision:  1.0\n",
      "recall:  0.4482758620689655\n",
      "f1:  0.6190476190476191\n",
      "Mean Absolute Error: 0.00064\n",
      "Mean Squared Error: 0.00064\n",
      "Root Mean Squared Error: 0.025298221281347035\n"
     ]
    },
    {
     "data": {
      "text/plain": [
       "array([[24971,     0],\n",
       "       [   16,    13]], dtype=int64)"
      ]
     },
     "execution_count": 14,
     "metadata": {},
     "output_type": "execute_result"
    }
   ],
   "source": [
    "from sklearn.neighbors import KNeighborsClassifier\n",
    "from sklearn.metrics import accuracy_score\n",
    "\n",
    "model2 = KNeighborsClassifier(n_neighbors = 4)\n",
    "model2 = model2.fit(X_train, y_train)\n",
    "model2.predict(X_test)\n",
    "np.array(y_test)\n",
    "accuracy_score(model2.predict(X_test),np.array(y_test))\n",
    "\n",
    "\n",
    "\n",
    "pred3 = model2.predict(X_test)\n",
    "\n",
    "print(\"precision: \",precision_score(y_test,pred3))\n",
    "print(\"recall: \",recall_score(y_test,pred3))\n",
    "print(\"f1: \",f1_score(y_test,pred3))\n",
    "print('Mean Absolute Error:', metrics.mean_absolute_error(y_test, pred3))\n",
    "print('Mean Squared Error:', metrics.mean_squared_error(y_test, pred3))\n",
    "print('Root Mean Squared Error:', np.sqrt(metrics.mean_squared_error(y_test, pred3)))\n",
    "confusion_matrix(y_test,pred3)\n",
    "\n"
   ]
  },
  {
   "cell_type": "markdown",
   "metadata": {},
   "source": [
    "### Which model worked better and how do you know?"
   ]
  },
  {
   "cell_type": "code",
   "execution_count": null,
   "metadata": {},
   "outputs": [],
   "source": [
    "# Your response here\n",
    "# After scaling the data, I've got a 100% accuracy in KNN and LinearRegression, but a higher recall and F1 with KNN. \n"
   ]
  },
  {
   "cell_type": "markdown",
   "metadata": {},
   "source": [
    "### Note: before doing the first commit, make sure you don't include the large csv file, either by adding it to .gitignore, or by deleting it."
   ]
  }
 ],
 "metadata": {
  "kernelspec": {
   "display_name": "Python 3 (ipykernel)",
   "language": "python",
   "name": "python3"
  },
  "language_info": {
   "codemirror_mode": {
    "name": "ipython",
    "version": 3
   },
   "file_extension": ".py",
   "mimetype": "text/x-python",
   "name": "python",
   "nbconvert_exporter": "python",
   "pygments_lexer": "ipython3",
   "version": "3.9.7"
  }
 },
 "nbformat": 4,
 "nbformat_minor": 2
}
